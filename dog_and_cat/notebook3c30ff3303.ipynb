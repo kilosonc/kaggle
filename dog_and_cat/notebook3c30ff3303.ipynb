{
 "cells": [
  {
   "cell_type": "code",
   "execution_count": 1,
   "metadata": {
    "execution": {
     "iopub.execute_input": "2025-03-18T08:49:38.706304Z",
     "iopub.status.busy": "2025-03-18T08:49:38.706029Z",
     "iopub.status.idle": "2025-03-18T08:49:42.191916Z",
     "shell.execute_reply": "2025-03-18T08:49:42.191175Z",
     "shell.execute_reply.started": "2025-03-18T08:49:38.706283Z"
    },
    "trusted": true
   },
   "outputs": [],
   "source": [
    "import pandas as pd\n",
    "import torch\n",
    "import torch.nn as nn\n",
    "import torch.nn.functional as F"
   ]
  },
  {
   "cell_type": "code",
   "execution_count": 2,
   "metadata": {
    "execution": {
     "iopub.execute_input": "2025-03-18T08:49:42.193499Z",
     "iopub.status.busy": "2025-03-18T08:49:42.193107Z",
     "iopub.status.idle": "2025-03-18T08:49:42.200263Z",
     "shell.execute_reply": "2025-03-18T08:49:42.199213Z",
     "shell.execute_reply.started": "2025-03-18T08:49:42.193461Z"
    },
    "trusted": true
   },
   "outputs": [],
   "source": [
    "class Net(nn.Module):\n",
    "    def __init__(self):\n",
    "        super(Net, self).__init__()\n",
    "\n",
    "        self.conv1 = nn.Sequential(\n",
    "            nn.Conv2d(\n",
    "                3, 512, 5\n",
    "            ),\n",
    "            nn.ReLU(),\n",
    "            nn.MaxPool2d((10,10))\n",
    "        )\n",
    "        self.conv2 = nn.Sequential(\n",
    "            nn.Conv2d(512, 1024, 5),\n",
    "            nn.ReLU(),\n",
    "            nn.MaxPool2d((10,10))\n",
    "        )\n",
    "        self.output = nn.Sequential(\n",
    "            # nn.Linear(3810304, 3721),\n",
    "            # nn.ReLU(),\n",
    "            nn.Linear(4096, 1024),\n",
    "            nn.ReLU(),\n",
    "            nn.Linear(1024, 512),\n",
    "            nn.ReLU(),\n",
    "            nn.Linear(512, 200),\n",
    "            nn.ReLU(),\n",
    "            nn.Linear(200, 50),\n",
    "            nn.ReLU(),\n",
    "            nn.Linear(50, 10),\n",
    "            nn.ReLU(),\n",
    "            nn.Linear(10, 2),\n",
    "        )\n",
    "\n",
    "    def forward(self, input):\n",
    "        x = self.conv1(input)\n",
    "        x = self.conv2(x)\n",
    "        x = x.view(x.size(0), -1)\n",
    "        return self.output(x)"
   ]
  },
  {
   "cell_type": "code",
   "execution_count": 3,
   "metadata": {
    "execution": {
     "iopub.execute_input": "2025-03-18T08:49:42.202808Z",
     "iopub.status.busy": "2025-03-18T08:49:42.202473Z",
     "iopub.status.idle": "2025-03-18T08:49:42.288903Z",
     "shell.execute_reply": "2025-03-18T08:49:42.287895Z",
     "shell.execute_reply.started": "2025-03-18T08:49:42.202785Z"
    },
    "trusted": true
   },
   "outputs": [
    {
     "name": "stdout",
     "output_type": "stream",
     "text": [
      "Using device: mps\n"
     ]
    }
   ],
   "source": [
    "# 检查 MPS 可用性\n",
    "if torch.backends.mps.is_available():\n",
    "    device = torch.device(\"mps\")  # Apple GPU\n",
    "elif torch.cuda.is_available():\n",
    "    device = torch.device(\"cuda\")\n",
    "else:\n",
    "    device = torch.device(\"cpu\")  # 回退到 CPU\n",
    "print(f\"Using device: {device}\")"
   ]
  },
  {
   "cell_type": "code",
   "execution_count": 4,
   "metadata": {
    "execution": {
     "iopub.execute_input": "2025-03-18T08:49:42.290934Z",
     "iopub.status.busy": "2025-03-18T08:49:42.290274Z",
     "iopub.status.idle": "2025-03-18T08:49:42.718446Z",
     "shell.execute_reply": "2025-03-18T08:49:42.717539Z",
     "shell.execute_reply.started": "2025-03-18T08:49:42.290900Z"
    },
    "trusted": true
   },
   "outputs": [
    {
     "name": "stdout",
     "output_type": "stream",
     "text": [
      "Net(\n",
      "  (conv1): Sequential(\n",
      "    (0): Conv2d(3, 512, kernel_size=(5, 5), stride=(1, 1))\n",
      "    (1): ReLU()\n",
      "    (2): MaxPool2d(kernel_size=(10, 10), stride=(10, 10), padding=0, dilation=1, ceil_mode=False)\n",
      "  )\n",
      "  (conv2): Sequential(\n",
      "    (0): Conv2d(512, 1024, kernel_size=(5, 5), stride=(1, 1))\n",
      "    (1): ReLU()\n",
      "    (2): MaxPool2d(kernel_size=(10, 10), stride=(10, 10), padding=0, dilation=1, ceil_mode=False)\n",
      "  )\n",
      "  (output): Sequential(\n",
      "    (0): Linear(in_features=4096, out_features=1024, bias=True)\n",
      "    (1): ReLU()\n",
      "    (2): Linear(in_features=1024, out_features=512, bias=True)\n",
      "    (3): ReLU()\n",
      "    (4): Linear(in_features=512, out_features=200, bias=True)\n",
      "    (5): ReLU()\n",
      "    (6): Linear(in_features=200, out_features=50, bias=True)\n",
      "    (7): ReLU()\n",
      "    (8): Linear(in_features=50, out_features=10, bias=True)\n",
      "    (9): ReLU()\n",
      "    (10): Linear(in_features=10, out_features=2, bias=True)\n",
      "  )\n",
      ")\n"
     ]
    }
   ],
   "source": [
    "cnn = Net()\n",
    "cnn.to(device=device)\n",
    "print(cnn)"
   ]
  },
  {
   "cell_type": "code",
   "execution_count": 5,
   "metadata": {
    "execution": {
     "iopub.execute_input": "2025-03-18T08:49:42.719572Z",
     "iopub.status.busy": "2025-03-18T08:49:42.719338Z",
     "iopub.status.idle": "2025-03-18T08:50:20.820430Z",
     "shell.execute_reply": "2025-03-18T08:50:20.819788Z",
     "shell.execute_reply.started": "2025-03-18T08:49:42.719552Z"
    },
    "trusted": true
   },
   "outputs": [],
   "source": [
    "from torchvision import transforms\n",
    "from torch.utils.data import Dataset\n",
    "from PIL import Image\n",
    "import os\n",
    "\n",
    "class DogsAndCatsDataset(Dataset):\n",
    "    def __init__(self):\n",
    "        data = []\n",
    "        for (path, _, files) in os.walk(\"./dataset/train\"):\n",
    "            for f in files:\n",
    "                index = int(f.split(\".\")[1])\n",
    "                file_path = f\"{path}/{f}\"\n",
    "                if path.endswith(\"dogs\"):\n",
    "                    data.append([index, file_path, \"dog\"])\n",
    "                elif path.endswith(\"cats\"):\n",
    "                    data.append([index, file_path, \"cat\"])\n",
    "        self.train_set = pd.DataFrame(data, columns=[\"id\", \"path\", \"type\"])\n",
    "        self.transform = transforms.Compose([\n",
    "            transforms.Resize((256, 256)),\n",
    "            transforms.ToTensor(),\n",
    "            transforms.Normalize(0.5, 0.5)\n",
    "        ])\n",
    "\n",
    "    def __len__(self):\n",
    "        return len(self.train_set)\n",
    "        # return 20\n",
    "\n",
    "    def __getitem__(self, index):\n",
    "        item = self.train_set.loc[index, [\"path\",\"type\"]]\n",
    "        path = item.loc[\"path\"]\n",
    "        label = [0.0 if item.loc[\"type\"] == \"dog\" else 1.0, 1.0 if item.loc[\"type\"] == \"dog\" else 0.0]\n",
    "        image = Image.open(path).convert(\"RGB\")\n",
    "        return self.transform(image), torch.tensor(label)\n",
    "\n",
    "data = DogsAndCatsDataset()"
   ]
  },
  {
   "cell_type": "code",
   "execution_count": 6,
   "metadata": {
    "execution": {
     "iopub.execute_input": "2025-03-18T08:50:20.821467Z",
     "iopub.status.busy": "2025-03-18T08:50:20.821131Z",
     "iopub.status.idle": "2025-03-18T08:50:20.828035Z",
     "shell.execute_reply": "2025-03-18T08:50:20.827121Z",
     "shell.execute_reply.started": "2025-03-18T08:50:20.821448Z"
    },
    "trusted": true
   },
   "outputs": [
    {
     "data": {
      "text/plain": [
       "['test', 'train', 'sample_submission.csv']"
      ]
     },
     "execution_count": 6,
     "metadata": {},
     "output_type": "execute_result"
    }
   ],
   "source": [
    "import os\n",
    "os.listdir(\"./dataset\")"
   ]
  },
  {
   "cell_type": "code",
   "execution_count": 7,
   "metadata": {
    "execution": {
     "iopub.execute_input": "2025-03-18T08:50:20.829219Z",
     "iopub.status.busy": "2025-03-18T08:50:20.828930Z",
     "iopub.status.idle": "2025-03-18T08:50:20.869236Z",
     "shell.execute_reply": "2025-03-18T08:50:20.868372Z",
     "shell.execute_reply.started": "2025-03-18T08:50:20.829198Z"
    },
    "trusted": true
   },
   "outputs": [],
   "source": [
    "from torch.utils.data import DataLoader, random_split\n",
    "\n",
    "train_set_size = int(len(data) * 0.8)\n",
    "validate_set_size = len(data) - train_set_size\n",
    "\n",
    "[train_set, validate_set] = random_split(data, [train_set_size, validate_set_size])\n",
    "\n",
    "train_set_loader = DataLoader(dataset=train_set,batch_size=10,shuffle=True)\n",
    "validate_set_loader = DataLoader(dataset=validate_set,batch_size=10,shuffle=True)"
   ]
  },
  {
   "cell_type": "code",
   "execution_count": 8,
   "metadata": {
    "execution": {
     "iopub.execute_input": "2025-03-18T08:50:20.870932Z",
     "iopub.status.busy": "2025-03-18T08:50:20.870700Z"
    },
    "trusted": true
   },
   "outputs": [
    {
     "name": "stderr",
     "output_type": "stream",
     "text": [
      "  1%|          | 13/2000 [00:25<1:04:16,  1.94s/it]\n"
     ]
    },
    {
     "ename": "KeyboardInterrupt",
     "evalue": "",
     "output_type": "error",
     "traceback": [
      "\u001b[0;31m---------------------------------------------------------------------------\u001b[0m",
      "\u001b[0;31mKeyboardInterrupt\u001b[0m                         Traceback (most recent call last)",
      "Cell \u001b[0;32mIn[8], line 8\u001b[0m\n\u001b[1;32m      6\u001b[0m loss \u001b[38;5;241m=\u001b[39m \u001b[38;5;124m\"\u001b[39m\u001b[38;5;124m\"\u001b[39m\n\u001b[1;32m      7\u001b[0m \u001b[38;5;28;01mfor\u001b[39;00m imgs , labels \u001b[38;5;129;01min\u001b[39;00m tqdm(train_set_loader):\n\u001b[0;32m----> 8\u001b[0m     imgs, labels \u001b[38;5;241m=\u001b[39m \u001b[43mimgs\u001b[49m\u001b[38;5;241;43m.\u001b[39;49m\u001b[43mto\u001b[49m\u001b[43m(\u001b[49m\u001b[43mdevice\u001b[49m\u001b[43m)\u001b[49m, labels\u001b[38;5;241m.\u001b[39mto(device)\n\u001b[1;32m      9\u001b[0m     optimizer\u001b[38;5;241m.\u001b[39mzero_grad()\n\u001b[1;32m     10\u001b[0m     output \u001b[38;5;241m=\u001b[39m cnn(imgs\u001b[38;5;241m.\u001b[39mview(\u001b[38;5;241m-\u001b[39m\u001b[38;5;241m1\u001b[39m, \u001b[38;5;241m3\u001b[39m, \u001b[38;5;241m256\u001b[39m, \u001b[38;5;241m256\u001b[39m)\u001b[38;5;241m.\u001b[39mto(device))\n",
      "\u001b[0;31mKeyboardInterrupt\u001b[0m: "
     ]
    }
   ],
   "source": [
    "from tqdm import tqdm\n",
    "optimizer = torch.optim.Adam(cnn.parameters(), lr=0.001)\n",
    "loss_func = nn.CrossEntropyLoss()\n",
    "\n",
    "for epoch in range(5):\n",
    "  loss = \"\"\n",
    "  for imgs , labels in tqdm(train_set_loader):\n",
    "      imgs, labels = imgs.to(device), labels.to(device)\n",
    "      optimizer.zero_grad()\n",
    "      output = cnn(imgs.view(-1, 3, 256, 256).to(device))\n",
    "      loss = loss_func(output, labels)\n",
    "      loss.backward()\n",
    "      optimizer.step()\n",
    "  print(loss)"
   ]
  },
  {
   "cell_type": "code",
   "execution_count": null,
   "metadata": {
    "trusted": true
   },
   "outputs": [
    {
     "ename": "NameError",
     "evalue": "name 'cnn' is not defined",
     "output_type": "error",
     "traceback": [
      "\u001b[0;31m---------------------------------------------------------------------------\u001b[0m",
      "\u001b[0;31mNameError\u001b[0m                                 Traceback (most recent call last)",
      "Cell \u001b[0;32mIn[1], line 1\u001b[0m\n\u001b[0;32m----> 1\u001b[0m \u001b[43mcnn\u001b[49m\u001b[38;5;241m.\u001b[39meval()\n\u001b[1;32m      2\u001b[0m correct \u001b[38;5;241m=\u001b[39m \u001b[38;5;241m0\u001b[39m\n\u001b[1;32m      3\u001b[0m total \u001b[38;5;241m=\u001b[39m \u001b[38;5;241m0\u001b[39m\n",
      "\u001b[0;31mNameError\u001b[0m: name 'cnn' is not defined"
     ]
    }
   ],
   "source": [
    "cnn.eval()\n",
    "correct = 0\n",
    "total = 0\n",
    "with torch.no_grad():\n",
    "    for imgs, labels in tqdm(validate_set_loader):\n",
    "        imgs, labels = imgs.to(device), labels.to(device)\n",
    "        output = cnn(imgs.view(-1, 3, 256, 256).to(device))\n",
    "        result = torch.argmax(output, dim=1)\n",
    "\n",
    "        correct += (result == torch.argmax(labels, dim=1)).sum().item()  # 统计预测正确的样本数\n",
    "        total += labels.size(0)  # 统计总样本数\n",
    "\n",
    "accuracy = correct / total\n",
    "print(f\"Accuracy: {accuracy:.4f}\")"
   ]
  }
 ],
 "metadata": {
  "kaggle": {
   "accelerator": "gpu",
   "dataSources": [
    {
     "databundleVersionId": 3218632,
     "sourceId": 34426,
     "sourceType": "competition"
    }
   ],
   "dockerImageVersionId": 30919,
   "isGpuEnabled": true,
   "isInternetEnabled": true,
   "language": "python",
   "sourceType": "notebook"
  },
  "kernelspec": {
   "display_name": ".venv",
   "language": "python",
   "name": "python3"
  },
  "language_info": {
   "codemirror_mode": {
    "name": "ipython",
    "version": 3
   },
   "file_extension": ".py",
   "mimetype": "text/x-python",
   "name": "python",
   "nbconvert_exporter": "python",
   "pygments_lexer": "ipython3",
   "version": "3.13.3"
  }
 },
 "nbformat": 4,
 "nbformat_minor": 4
}
