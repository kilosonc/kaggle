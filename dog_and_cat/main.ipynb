{
  "cells": [
    {
      "cell_type": "markdown",
      "metadata": {
        "colab_type": "text",
        "id": "view-in-github"
      },
      "source": [
        "<a href=\"https://colab.research.google.com/github/kilosonc/kaggle/blob/master/dog_and_cat/main.ipynb\" target=\"_parent\"><img src=\"https://colab.research.google.com/assets/colab-badge.svg\" alt=\"Open In Colab\"/></a>"
      ]
    },
    {
      "cell_type": "code",
      "execution_count": 21,
      "metadata": {
        "id": "dEPbyHkUd5z3"
      },
      "outputs": [],
      "source": [
        "!mkdir -p ~/.kaggle\n",
        "!touch ~/.kaggle/kaggle.json\n"
      ]
    },
    {
      "cell_type": "code",
      "execution_count": 22,
      "metadata": {
        "id": "C8sHA9CIh89G"
      },
      "outputs": [],
      "source": [
        "# from google.colab import userdata\n",
        "# with open(\"/root/.kaggle/kaggle.json\", \"w\") as f:\n",
        "#   f.write(userdata.get('kaggle'))\n"
      ]
    },
    {
      "cell_type": "code",
      "execution_count": 23,
      "metadata": {
        "colab": {
          "base_uri": "https://localhost:8080/"
        },
        "id": "rRyhGtSCh_KO",
        "outputId": "df1f2537-6474-4755-e5dc-bbcea1969451"
      },
      "outputs": [],
      "source": [
        "# !kaggle competitions download -c dog-vs-cat-classification\n",
        "# !yes | unzip dog-vs-cat-classification.zip -d ./dataset > /dev/null\n",
        "# !rm -f dog-vs-cat-classification.zip"
      ]
    },
    {
      "cell_type": "code",
      "execution_count": 24,
      "metadata": {
        "id": "QyYd8Z4yd5z4"
      },
      "outputs": [],
      "source": [
        "import pandas as pd"
      ]
    },
    {
      "cell_type": "code",
      "execution_count": null,
      "metadata": {
        "id": "IIi2qLnyd5z4"
      },
      "outputs": [],
      "source": [
        "import torch\n",
        "import torch.nn as nn\n",
        "import torch.nn.functional as F\n",
        "\n",
        "class Net(nn.Module):\n",
        "    def __init__(self):\n",
        "        super(Net, self).__init__()\n",
        "\n",
        "        self.conv1 = nn.Sequential(\n",
        "            nn.Conv2d(\n",
        "                3, 64, 3, padding = 1,\n",
        "            ),\n",
        "            nn.BatchNorm2d(64),\n",
        "            nn.ReLU(inplace=True),\n",
        "            nn.Conv2d(\n",
        "                64, 64, 3, padding = 1,\n",
        "            ),\n",
        "            nn.BatchNorm2d(64),\n",
        "            nn.ReLU(inplace=True),\n",
        "            nn.MaxPool2d((2,2), stride=2),\n",
        "\n",
        "            nn.Conv2d(\n",
        "                64, 128, 3, padding = 1,\n",
        "            ),\n",
        "            nn.BatchNorm2d(128),\n",
        "            nn.ReLU(inplace=True),\n",
        "            nn.Conv2d(\n",
        "                128, 128, 3, padding = 1,\n",
        "            ),\n",
        "            nn.BatchNorm2d(128),\n",
        "            nn.ReLU(inplace=True),\n",
        "            nn.MaxPool2d((2,2), stride=2),\n",
        "\n",
        "            nn.Conv2d(\n",
        "                128, 256, 3, padding = 1,\n",
        "            ),\n",
        "            nn.BatchNorm2d(256),\n",
        "            nn.ReLU(inplace=True),\n",
        "            nn.Conv2d(\n",
        "                256, 256, 3, padding = 1,\n",
        "            ),\n",
        "            nn.BatchNorm2d(256),\n",
        "            nn.ReLU(inplace=True),\n",
        "            nn.Conv2d(\n",
        "                256, 256, 3, padding = 1,\n",
        "            ),\n",
        "            nn.BatchNorm2d(256),\n",
        "            nn.ReLU(inplace=True),\n",
        "            nn.MaxPool2d((2,2), stride=2),\n",
        "\n",
        "            nn.Conv2d(\n",
        "                256, 512, 3, padding = 1,\n",
        "            ),\n",
        "            nn.BatchNorm2d(512),\n",
        "            nn.ReLU(inplace=True),\n",
        "            nn.Conv2d(\n",
        "                512, 512, 3, padding = 1,\n",
        "            ),\n",
        "            nn.BatchNorm2d(512),\n",
        "            nn.ReLU(inplace=True),\n",
        "            nn.Conv2d(\n",
        "                512, 512, 3, padding = 1,\n",
        "            ),\n",
        "            nn.BatchNorm2d(512),\n",
        "            nn.ReLU(inplace=True),\n",
        "            nn.MaxPool2d((2,2), stride=2),\n",
        "\n",
        "            nn.Conv2d(\n",
        "                512, 512, 3, padding = 1,\n",
        "            ),\n",
        "            nn.BatchNorm2d(512),\n",
        "            nn.ReLU(inplace=True),\n",
        "            nn.Conv2d(\n",
        "                512, 512, 3, padding = 1,\n",
        "            ),\n",
        "            nn.BatchNorm2d(512),\n",
        "            nn.ReLU(inplace=True),\n",
        "            nn.Conv2d(\n",
        "                512, 512, 3, padding = 1,\n",
        "            ),\n",
        "            nn.BatchNorm2d(512),\n",
        "            nn.ReLU(inplace=True),\n",
        "            nn.MaxPool2d((2,2), stride=2),\n",
        "        )\n",
        "        self.output = nn.Sequential(\n",
        "            nn.Linear(512 * 7 * 7, 4096),\n",
        "            nn.ReLU(True),\n",
        "            nn.Dropout(),\n",
        "            nn.Linear(4096, 4096),\n",
        "            nn.ReLU(True),\n",
        "            nn.Dropout(),\n",
        "            nn.Linear(4096, 2),\n",
        "            nn.Softmax(dim=1),\n",
        "        )\n",
        "\n",
        "    def forward(self, input):\n",
        "        x = self.conv1(input)\n",
        "        x = x.view(x.size(0), -1)\n",
        "        return self.output(x)"
      ]
    },
    {
      "cell_type": "code",
      "execution_count": 26,
      "metadata": {
        "colab": {
          "base_uri": "https://localhost:8080/"
        },
        "id": "0z04QnVud5z5",
        "outputId": "462ee565-f578-439f-8f3b-ac8569524b19"
      },
      "outputs": [
        {
          "name": "stdout",
          "output_type": "stream",
          "text": [
            "Using device: mps\n"
          ]
        }
      ],
      "source": [
        "# 检查 MPS 可用性\n",
        "if torch.backends.mps.is_available():\n",
        "    device = torch.device(\"mps\")  # Apple GPU\n",
        "elif torch.cuda.is_available():\n",
        "    device = torch.device(\"cuda\")\n",
        "else:\n",
        "    device = torch.device(\"cpu\")  # 回退到 CPU\n",
        "print(f\"Using device: {device}\")"
      ]
    },
    {
      "cell_type": "code",
      "execution_count": 27,
      "metadata": {
        "colab": {
          "base_uri": "https://localhost:8080/"
        },
        "id": "_pZdyoJ2d5z5",
        "outputId": "e6e574f0-861b-47d5-be10-c32ec28b0515"
      },
      "outputs": [
        {
          "name": "stdout",
          "output_type": "stream",
          "text": [
            "Net(\n",
            "  (conv1): Sequential(\n",
            "    (0): Conv2d(3, 52, kernel_size=(40, 40), stride=(1, 1))\n",
            "    (1): ReLU()\n",
            "    (2): MaxPool2d(kernel_size=(5, 5), stride=(5, 5), padding=0, dilation=1, ceil_mode=False)\n",
            "  )\n",
            "  (conv2): Sequential(\n",
            "    (0): Conv2d(52, 100, kernel_size=(20, 20), stride=(1, 1))\n",
            "    (1): ReLU()\n",
            "    (2): MaxPool2d(kernel_size=(5, 5), stride=(5, 5), padding=0, dilation=1, ceil_mode=False)\n",
            "  )\n",
            "  (output): Sequential(\n",
            "    (0): Linear(in_features=1600, out_features=1000, bias=True)\n",
            "    (1): ReLU()\n",
            "    (2): Linear(in_features=1000, out_features=512, bias=True)\n",
            "    (3): ReLU()\n",
            "    (4): Linear(in_features=512, out_features=200, bias=True)\n",
            "    (5): ReLU()\n",
            "    (6): Linear(in_features=200, out_features=50, bias=True)\n",
            "    (7): ReLU()\n",
            "    (8): Linear(in_features=50, out_features=10, bias=True)\n",
            "    (9): ReLU()\n",
            "    (10): Linear(in_features=10, out_features=2, bias=True)\n",
            "  )\n",
            ")\n"
          ]
        }
      ],
      "source": [
        "cnn = Net()\n",
        "cnn.to(device=device)\n",
        "print(cnn)"
      ]
    },
    {
      "cell_type": "code",
      "execution_count": 28,
      "metadata": {
        "colab": {
          "base_uri": "https://localhost:8080/"
        },
        "id": "6ZyrzTvUd5z5",
        "outputId": "82f27e4c-3523-4fb7-e183-181d6e64f197"
      },
      "outputs": [
        {
          "name": "stdout",
          "output_type": "stream",
          "text": [
            "torch.Size([3, 256, 256])\n"
          ]
        }
      ],
      "source": [
        "from torchvision import transforms\n",
        "from torch.utils.data import Dataset\n",
        "from PIL import Image\n",
        "import os\n",
        "os.listdir\n",
        "\n",
        "class DogsAndCatsDataset(Dataset):\n",
        "    def __init__(self, root):\n",
        "        data = []\n",
        "        for (path, _, files) in os.walk(root):\n",
        "            for f in files:\n",
        "                file_path = f\"{path}/{f}\"\n",
        "                if path.endswith(\"dogs\"):\n",
        "                    data.append([file_path, \"dog\"])\n",
        "                elif path.endswith(\"cats\"):\n",
        "                    data.append([file_path, \"cat\"])\n",
        "                elif path.endswith(\"test\"):\n",
        "                    data.append([file_path, \"\"])\n",
        "        self.train_set = pd.DataFrame(data, columns=[\"path\", \"type\"])\n",
        "        self.transform = transforms.Compose([\n",
        "            transforms.Resize((256, 256)),\n",
        "            transforms.ToTensor(),\n",
        "            transforms.Normalize(0.5, 0.5)\n",
        "        ])\n",
        "\n",
        "    def __len__(self):\n",
        "        # return len(self.train_set)\n",
        "        return 10\n",
        "\n",
        "    def __getitem__(self, index):\n",
        "        item = self.train_set.loc[index, [\"path\",\"type\"]]\n",
        "        path = item.loc[\"path\"]\n",
        "        label = [0.0 if item.loc[\"type\"] == \"dog\" else 1.0, 1.0 if item.loc[\"type\"] == \"dog\" else 0.0]\n",
        "        image = Image.open(path).convert(\"RGB\")\n",
        "        return self.transform(image), torch.tensor(label)\n",
        "\n",
        "data = DogsAndCatsDataset(\"./dataset/train\")\n",
        "img, _ = data[1]\n",
        "print(img.size())"
      ]
    },
    {
      "cell_type": "code",
      "execution_count": 29,
      "metadata": {
        "id": "FfR6N9nRd5z5"
      },
      "outputs": [],
      "source": [
        "from torch.utils.data import DataLoader, random_split\n",
        "\n",
        "train_set_size = int(len(data) * 0.8)\n",
        "validate_set_size = len(data) - train_set_size\n",
        "\n",
        "[train_set, validate_set] = random_split(data, [train_set_size, validate_set_size])\n",
        "test_set = DogsAndCatsDataset(\"./dataset/test\")\n",
        "\n",
        "train_set_loader = DataLoader(dataset=train_set,batch_size=10,shuffle=True)\n",
        "validate_set_loader = DataLoader(dataset=validate_set,batch_size=10,shuffle=True)\n",
        "test_set_loader = DataLoader(dataset=test_set,batch_size=10,shuffle=True)"
      ]
    },
    {
      "cell_type": "code",
      "execution_count": 30,
      "metadata": {
        "colab": {
          "base_uri": "https://localhost:8080/"
        },
        "id": "8fbWxlkbd5z5",
        "outputId": "500ad802-ec7e-4e25-99c6-639693f531e2"
      },
      "outputs": [
        {
          "name": "stderr",
          "output_type": "stream",
          "text": [
            "100%|██████████| 1/1 [00:04<00:00,  4.62s/it]\n"
          ]
        },
        {
          "name": "stdout",
          "output_type": "stream",
          "text": [
            "tensor(0.5735, device='mps:0', grad_fn=<DivBackward1>)\n"
          ]
        },
        {
          "name": "stderr",
          "output_type": "stream",
          "text": [
            "100%|██████████| 1/1 [00:00<00:00,  7.05it/s]\n"
          ]
        },
        {
          "name": "stdout",
          "output_type": "stream",
          "text": [
            "tensor(0.6216, device='mps:0', grad_fn=<DivBackward1>)\n"
          ]
        },
        {
          "name": "stderr",
          "output_type": "stream",
          "text": [
            "100%|██████████| 1/1 [00:00<00:00,  6.72it/s]\n"
          ]
        },
        {
          "name": "stdout",
          "output_type": "stream",
          "text": [
            "tensor(0.2865, device='mps:0', grad_fn=<DivBackward1>)\n"
          ]
        },
        {
          "name": "stderr",
          "output_type": "stream",
          "text": [
            "100%|██████████| 1/1 [00:00<00:00, 23.70it/s]\n"
          ]
        },
        {
          "name": "stdout",
          "output_type": "stream",
          "text": [
            "tensor(0.0022, device='mps:0', grad_fn=<DivBackward1>)\n"
          ]
        },
        {
          "name": "stderr",
          "output_type": "stream",
          "text": [
            "100%|██████████| 1/1 [00:00<00:00, 19.50it/s]\n"
          ]
        },
        {
          "name": "stdout",
          "output_type": "stream",
          "text": [
            "tensor(4.4703e-08, device='mps:0', grad_fn=<DivBackward1>)\n"
          ]
        }
      ],
      "source": [
        "from tqdm import tqdm\n",
        "optimizer = torch.optim.Adam(cnn.parameters(), lr=0.001)\n",
        "loss_func = nn.CrossEntropyLoss()\n",
        "\n",
        "for epoch in range(5):\n",
        "  loss = \"\"\n",
        "  for imgs , labels in tqdm(train_set_loader):\n",
        "      imgs, labels = imgs.to(device), labels.to(device)\n",
        "      optimizer.zero_grad()\n",
        "      output = cnn(imgs.view(-1, 3, 256, 256).to(device))\n",
        "      loss = loss_func(output, labels)\n",
        "      loss.backward()\n",
        "      optimizer.step()\n",
        "  print(loss)"
      ]
    },
    {
      "cell_type": "code",
      "execution_count": 31,
      "metadata": {
        "colab": {
          "base_uri": "https://localhost:8080/"
        },
        "id": "l71qD-OEd5z5",
        "outputId": "4b083df1-4cf5-4eab-d7dc-d25a5079cccd"
      },
      "outputs": [
        {
          "name": "stdout",
          "output_type": "stream",
          "text": [
            "tensor(4.4703e-08, device='mps:0', grad_fn=<DivBackward1>)\n"
          ]
        }
      ],
      "source": [
        "print(loss)"
      ]
    },
    {
      "cell_type": "code",
      "execution_count": 32,
      "metadata": {
        "id": "sU2eYrajXX7x"
      },
      "outputs": [
        {
          "name": "stderr",
          "output_type": "stream",
          "text": [
            "100%|██████████| 1/1 [00:01<00:00,  1.03s/it]"
          ]
        },
        {
          "name": "stdout",
          "output_type": "stream",
          "text": [
            "Accuracy: 1.0000\n"
          ]
        },
        {
          "name": "stderr",
          "output_type": "stream",
          "text": [
            "\n"
          ]
        }
      ],
      "source": [
        "cnn.eval()\n",
        "correct = 0\n",
        "total = 0\n",
        "with torch.no_grad():\n",
        "    for imgs, labels in tqdm(validate_set_loader):\n",
        "        imgs, labels = imgs.to(device), labels.to(device)\n",
        "        output = cnn(imgs.view(-1, 3, 256, 256).to(device))\n",
        "        result = torch.argmax(output, dim=1)\n",
        "\n",
        "        correct += (result == labels).sum().item()  # 统计预测正确的样本数\n",
        "        total += labels.size(0)  # 统计总样本数\n",
        "\n",
        "accuracy = correct / total\n",
        "print(f\"Accuracy: {accuracy:.4f}\")"
      ]
    },
    {
      "cell_type": "code",
      "execution_count": null,
      "metadata": {},
      "outputs": [
        {
          "name": "stderr",
          "output_type": "stream",
          "text": [
            "100%|██████████| 1/1 [00:00<00:00,  2.00it/s]\n"
          ]
        }
      ],
      "source": [
        "cnn.eval()\n",
        "with torch.no_grad():\n",
        "    for imgs, _ in tqdm(test_set_loader):\n",
        "        imgs = imgs.to(device)\n",
        "        output = cnn(imgs.view(-1, 3, 256, 256).to(device))\n",
        "        result = torch.argmax(output, dim=1)\n",
        "        for i, r in enumerate(result):\n",
        "            r.int()"
      ]
    }
  ],
  "metadata": {
    "accelerator": "GPU",
    "colab": {
      "gpuType": "T4",
      "include_colab_link": true,
      "provenance": []
    },
    "kernelspec": {
      "display_name": ".venv",
      "language": "python",
      "name": "python3"
    },
    "language_info": {
      "codemirror_mode": {
        "name": "ipython",
        "version": 3
      },
      "file_extension": ".py",
      "mimetype": "text/x-python",
      "name": "python",
      "nbconvert_exporter": "python",
      "pygments_lexer": "ipython3",
      "version": "3.13.3"
    }
  },
  "nbformat": 4,
  "nbformat_minor": 0
}
