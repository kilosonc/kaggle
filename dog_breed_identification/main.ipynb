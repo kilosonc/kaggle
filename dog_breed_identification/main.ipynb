{
 "cells": [
  {
   "cell_type": "code",
   "execution_count": 168,
   "id": "10509e9e",
   "metadata": {},
   "outputs": [],
   "source": [
    "# !kaggle competitions download -c dog-breed-identification"
   ]
  },
  {
   "cell_type": "code",
   "execution_count": 169,
   "id": "147dcb41",
   "metadata": {},
   "outputs": [],
   "source": [
    "# !unzip dog-breed-identification.zip -d ./dataset/\n",
    "# !rm dog-breed-identification.zip"
   ]
  },
  {
   "cell_type": "code",
   "execution_count": 170,
   "id": "788132d6",
   "metadata": {},
   "outputs": [],
   "source": [
    "import pandas as pd\n",
    "from torch.utils.data import Dataset, DataLoader, random_split\n",
    "import torch.nn  as nn\n",
    "import os\n",
    "from PIL import Image\n",
    "from torchvision import transforms\n",
    "from torchvision.models import vgg16, VGG16_Weights\n",
    "import torch\n",
    "import torch.nn.functional as F\n",
    "import torch.optim as optim\n",
    "from tqdm import tqdm"
   ]
  },
  {
   "cell_type": "code",
   "execution_count": 171,
   "id": "a7eb19aa",
   "metadata": {},
   "outputs": [
    {
     "name": "stdout",
     "output_type": "stream",
     "text": [
      "<class 'pandas.core.frame.DataFrame'>\n",
      "RangeIndex: 10222 entries, 0 to 10221\n",
      "Data columns (total 2 columns):\n",
      " #   Column  Non-Null Count  Dtype \n",
      "---  ------  --------------  ----- \n",
      " 0   id      10222 non-null  object\n",
      " 1   breed   10222 non-null  object\n",
      "dtypes: object(2)\n",
      "memory usage: 159.8+ KB\n",
      "None\n"
     ]
    },
    {
     "data": {
      "text/plain": [
       "id       10222\n",
       "breed      120\n",
       "dtype: int64"
      ]
     },
     "execution_count": 171,
     "metadata": {},
     "output_type": "execute_result"
    }
   ],
   "source": [
    "labels_df = pd.read_csv(\"./dataset/labels.csv\")\n",
    "print(labels_df.info())\n",
    "labels_df.apply(lambda x: len(x.unique()))"
   ]
  },
  {
   "cell_type": "code",
   "execution_count": 172,
   "id": "29067fa5",
   "metadata": {},
   "outputs": [
    {
     "data": {
      "text/plain": [
       "4650"
      ]
     },
     "execution_count": 172,
     "metadata": {},
     "output_type": "execute_result"
    }
   ],
   "source": [
    "import gc\n",
    "del labels_df\n",
    "gc.collect()"
   ]
  },
  {
   "cell_type": "code",
   "execution_count": 173,
   "id": "85bac81e",
   "metadata": {},
   "outputs": [
    {
     "data": {
      "application/vnd.microsoft.datawrangler.viewer.v0+json": {
       "columns": [
        {
         "name": "id",
         "rawType": "object",
         "type": "string"
        },
        {
         "name": "breed",
         "rawType": "object",
         "type": "string"
        }
       ],
       "conversionMethod": "pd.DataFrame",
       "ref": "5b915bf6-16f8-4e62-a6e3-6d093003fa49",
       "rows": [
        [
         "a0bdc9dbefdfa54b40423728f1f3627e",
         "cairn"
        ],
        [
         "56ddc4e4e63361693d88bdcb0a5cc3ae",
         "saluki"
        ],
        [
         "84e567b15311f0c891858f56f0175867",
         "vizsla"
        ],
        [
         "29434945d64aed89e7c1968de3b4285b",
         "malinois"
        ],
        [
         "e485830e23ef663878896f45f85751f4",
         "dhole"
        ]
       ],
       "shape": {
        "columns": 1,
        "rows": 5
       }
      },
      "text/html": [
       "<div>\n",
       "<style scoped>\n",
       "    .dataframe tbody tr th:only-of-type {\n",
       "        vertical-align: middle;\n",
       "    }\n",
       "\n",
       "    .dataframe tbody tr th {\n",
       "        vertical-align: top;\n",
       "    }\n",
       "\n",
       "    .dataframe thead th {\n",
       "        text-align: right;\n",
       "    }\n",
       "</style>\n",
       "<table border=\"1\" class=\"dataframe\">\n",
       "  <thead>\n",
       "    <tr style=\"text-align: right;\">\n",
       "      <th></th>\n",
       "      <th>breed</th>\n",
       "    </tr>\n",
       "    <tr>\n",
       "      <th>id</th>\n",
       "      <th></th>\n",
       "    </tr>\n",
       "  </thead>\n",
       "  <tbody>\n",
       "    <tr>\n",
       "      <th>a0bdc9dbefdfa54b40423728f1f3627e</th>\n",
       "      <td>cairn</td>\n",
       "    </tr>\n",
       "    <tr>\n",
       "      <th>56ddc4e4e63361693d88bdcb0a5cc3ae</th>\n",
       "      <td>saluki</td>\n",
       "    </tr>\n",
       "    <tr>\n",
       "      <th>84e567b15311f0c891858f56f0175867</th>\n",
       "      <td>vizsla</td>\n",
       "    </tr>\n",
       "    <tr>\n",
       "      <th>29434945d64aed89e7c1968de3b4285b</th>\n",
       "      <td>malinois</td>\n",
       "    </tr>\n",
       "    <tr>\n",
       "      <th>e485830e23ef663878896f45f85751f4</th>\n",
       "      <td>dhole</td>\n",
       "    </tr>\n",
       "  </tbody>\n",
       "</table>\n",
       "</div>"
      ],
      "text/plain": [
       "                                     breed\n",
       "id                                        \n",
       "a0bdc9dbefdfa54b40423728f1f3627e     cairn\n",
       "56ddc4e4e63361693d88bdcb0a5cc3ae    saluki\n",
       "84e567b15311f0c891858f56f0175867    vizsla\n",
       "29434945d64aed89e7c1968de3b4285b  malinois\n",
       "e485830e23ef663878896f45f85751f4     dhole"
      ]
     },
     "execution_count": 173,
     "metadata": {},
     "output_type": "execute_result"
    }
   ],
   "source": [
    "labels = pd.read_csv('./dataset/labels.csv', index_col='id')\n",
    "labels.sample(5)"
   ]
  },
  {
   "cell_type": "code",
   "execution_count": 174,
   "id": "db718546",
   "metadata": {},
   "outputs": [],
   "source": [
    "labels['breed'] = labels['breed'].astype('category').cat.codes"
   ]
  },
  {
   "cell_type": "code",
   "execution_count": 175,
   "id": "6cbdbf6d",
   "metadata": {},
   "outputs": [
    {
     "data": {
      "application/vnd.microsoft.datawrangler.viewer.v0+json": {
       "columns": [
        {
         "name": "id",
         "rawType": "object",
         "type": "string"
        },
        {
         "name": "breed",
         "rawType": "int8",
         "type": "integer"
        }
       ],
       "conversionMethod": "pd.DataFrame",
       "ref": "10a6b3ec-3bee-4540-860a-c5ab9b0f2e9b",
       "rows": [
        [
         "6f68ebaf89c39021195ce96796fc83ae",
         "109"
        ],
        [
         "e8827c1b0698e56e60f735b142d69d18",
         "119"
        ],
        [
         "2434d734f7ca85eb4733884ba23b7c68",
         "82"
        ],
        [
         "f5091fcbb9e639158ad406a3d793ff62",
         "51"
        ],
        [
         "e87a86f29c8709e81bbea9c8139d739c",
         "25"
        ]
       ],
       "shape": {
        "columns": 1,
        "rows": 5
       }
      },
      "text/html": [
       "<div>\n",
       "<style scoped>\n",
       "    .dataframe tbody tr th:only-of-type {\n",
       "        vertical-align: middle;\n",
       "    }\n",
       "\n",
       "    .dataframe tbody tr th {\n",
       "        vertical-align: top;\n",
       "    }\n",
       "\n",
       "    .dataframe thead th {\n",
       "        text-align: right;\n",
       "    }\n",
       "</style>\n",
       "<table border=\"1\" class=\"dataframe\">\n",
       "  <thead>\n",
       "    <tr style=\"text-align: right;\">\n",
       "      <th></th>\n",
       "      <th>breed</th>\n",
       "    </tr>\n",
       "    <tr>\n",
       "      <th>id</th>\n",
       "      <th></th>\n",
       "    </tr>\n",
       "  </thead>\n",
       "  <tbody>\n",
       "    <tr>\n",
       "      <th>6f68ebaf89c39021195ce96796fc83ae</th>\n",
       "      <td>109</td>\n",
       "    </tr>\n",
       "    <tr>\n",
       "      <th>e8827c1b0698e56e60f735b142d69d18</th>\n",
       "      <td>119</td>\n",
       "    </tr>\n",
       "    <tr>\n",
       "      <th>2434d734f7ca85eb4733884ba23b7c68</th>\n",
       "      <td>82</td>\n",
       "    </tr>\n",
       "    <tr>\n",
       "      <th>f5091fcbb9e639158ad406a3d793ff62</th>\n",
       "      <td>51</td>\n",
       "    </tr>\n",
       "    <tr>\n",
       "      <th>e87a86f29c8709e81bbea9c8139d739c</th>\n",
       "      <td>25</td>\n",
       "    </tr>\n",
       "  </tbody>\n",
       "</table>\n",
       "</div>"
      ],
      "text/plain": [
       "                                  breed\n",
       "id                                     \n",
       "6f68ebaf89c39021195ce96796fc83ae    109\n",
       "e8827c1b0698e56e60f735b142d69d18    119\n",
       "2434d734f7ca85eb4733884ba23b7c68     82\n",
       "f5091fcbb9e639158ad406a3d793ff62     51\n",
       "e87a86f29c8709e81bbea9c8139d739c     25"
      ]
     },
     "execution_count": 175,
     "metadata": {},
     "output_type": "execute_result"
    }
   ],
   "source": [
    "labels.sample(5)"
   ]
  },
  {
   "cell_type": "code",
   "execution_count": 176,
   "id": "1658a249",
   "metadata": {},
   "outputs": [
    {
     "data": {
      "text/plain": [
       "device(type='mps')"
      ]
     },
     "execution_count": 176,
     "metadata": {},
     "output_type": "execute_result"
    }
   ],
   "source": [
    "device = torch.device('cpu')\n",
    "if torch.backends.mps.is_available():\n",
    "    device = torch.device('mps')\n",
    "elif torch.cuda.is_available():\n",
    "    device = torch.device('cuda')\n",
    "\n",
    "device"
   ]
  },
  {
   "cell_type": "code",
   "execution_count": 177,
   "id": "6f17635f",
   "metadata": {},
   "outputs": [],
   "source": [
    "batch_size = 16\n",
    "num_epochs = 10\n",
    "learning_rate = 0.001"
   ]
  },
  {
   "cell_type": "code",
   "execution_count": 178,
   "id": "a5b4138d",
   "metadata": {},
   "outputs": [
    {
     "data": {
      "text/plain": [
       "(tensor([[[-0.7569, -0.8510, -0.7882,  ..., -0.8745, -0.8431, -0.8353],\n",
       "          [-0.7647, -0.8510, -0.7882,  ..., -0.8510, -0.8824, -0.8902],\n",
       "          [-0.7647, -0.8431, -0.7961,  ..., -0.8353, -0.8588, -0.8667],\n",
       "          ...,\n",
       "          [-0.8118, -0.8118, -0.8118,  ..., -0.0353, -0.0431, -0.0824],\n",
       "          [-0.7647, -0.7725, -0.7725,  ..., -0.0510, -0.0902, -0.1216],\n",
       "          [-0.7412, -0.7490, -0.7490,  ..., -0.0353, -0.1059, -0.1373]],\n",
       " \n",
       "         [[-0.7961, -0.8980, -0.8431,  ..., -0.8980, -0.8824, -0.8745],\n",
       "          [-0.8039, -0.8902, -0.8510,  ..., -0.8745, -0.9137, -0.9294],\n",
       "          [-0.8039, -0.8824, -0.8588,  ..., -0.8588, -0.8980, -0.9059],\n",
       "          ...,\n",
       "          [-0.8510, -0.8510, -0.8588,  ..., -0.0118, -0.0196, -0.0588],\n",
       "          [-0.8431, -0.8353, -0.8353,  ..., -0.0275, -0.0667, -0.0980],\n",
       "          [-0.8353, -0.8275, -0.8275,  ..., -0.0118, -0.0824, -0.1137]],\n",
       " \n",
       "         [[-0.8431, -0.9451, -0.8902,  ..., -0.9373, -0.9059, -0.8980],\n",
       "          [-0.8510, -0.9373, -0.8980,  ..., -0.9137, -0.9451, -0.9529],\n",
       "          [-0.8510, -0.9294, -0.9059,  ..., -0.8980, -0.9216, -0.9294],\n",
       "          ...,\n",
       "          [-0.8745, -0.8745, -0.8745,  ...,  0.0275,  0.0353, -0.0039],\n",
       "          [-0.8510, -0.8510, -0.8510,  ...,  0.0118, -0.0118, -0.0275],\n",
       "          [-0.8353, -0.8353, -0.8353,  ...,  0.0275, -0.0196, -0.0431]]]),\n",
       " tensor(66, dtype=torch.int8))"
      ]
     },
     "execution_count": 178,
     "metadata": {},
     "output_type": "execute_result"
    }
   ],
   "source": [
    "class DogImgDataset(Dataset):\n",
    "    def __init__(self, dir_name, labels):\n",
    "        self.files = os.listdir(dir_name)\n",
    "        self.img_paths = [os.path.join(dir_name, file) for file in self.files]\n",
    "        self.transform = transforms.Compose([\n",
    "            transforms.Resize((224, 224)),\n",
    "            transforms.ToTensor(),\n",
    "            transforms.Normalize(mean=0.5, std=0.5)\n",
    "        ])\n",
    "        self.labels = labels\n",
    "\n",
    "    def __getitem__(self, index):\n",
    "        path = self.img_paths[index]\n",
    "        index = path.split(\"/\")[-1].split(\".\")[0]\n",
    "        label = self.labels.loc[index, 'breed']\n",
    "\n",
    "        image = Image.open(path)\n",
    "        image = self.transform(image)\n",
    "        return image, torch.tensor(label)\n",
    "\n",
    "    def __len__(self):\n",
    "        return len(self.img_paths)\n",
    "    \n",
    "dataset = DogImgDataset(\"dataset/train\", labels)\n",
    "train_set, validate_set = random_split(dataset, [0.8, 0.2], generator=torch.Generator().manual_seed(42))\n",
    "train_loader = DataLoader(train_set, batch_size=16, shuffle=True)\n",
    "validate_loader = DataLoader(validate_set, batch_size=16, shuffle=True)\n",
    "dataset[0]"
   ]
  },
  {
   "cell_type": "code",
   "execution_count": 179,
   "id": "08073876",
   "metadata": {},
   "outputs": [
    {
     "name": "stderr",
     "output_type": "stream",
     "text": [
      "/Users/zhixiang.chenczx/tasks/kaggle/.venv/lib/python3.13/site-packages/torchvision/models/_utils.py:208: UserWarning: The parameter 'pretrained' is deprecated since 0.13 and may be removed in the future, please use 'weights' instead.\n",
      "  warnings.warn(\n",
      "/Users/zhixiang.chenczx/tasks/kaggle/.venv/lib/python3.13/site-packages/torchvision/models/_utils.py:223: UserWarning: Arguments other than a weight enum or `None` for 'weights' are deprecated since 0.13 and may be removed in the future. The current behavior is equivalent to passing `weights=VGG16_Weights.IMAGENET1K_V1`. You can also use `weights=VGG16_Weights.DEFAULT` to get the most up-to-date weights.\n",
      "  warnings.warn(msg)\n"
     ]
    },
    {
     "data": {
      "text/plain": [
       "VGG(\n",
       "  (features): Sequential(\n",
       "    (0): Conv2d(3, 64, kernel_size=(3, 3), stride=(1, 1), padding=(1, 1))\n",
       "    (1): ReLU(inplace=True)\n",
       "    (2): Conv2d(64, 64, kernel_size=(3, 3), stride=(1, 1), padding=(1, 1))\n",
       "    (3): ReLU(inplace=True)\n",
       "    (4): MaxPool2d(kernel_size=2, stride=2, padding=0, dilation=1, ceil_mode=False)\n",
       "    (5): Conv2d(64, 128, kernel_size=(3, 3), stride=(1, 1), padding=(1, 1))\n",
       "    (6): ReLU(inplace=True)\n",
       "    (7): Conv2d(128, 128, kernel_size=(3, 3), stride=(1, 1), padding=(1, 1))\n",
       "    (8): ReLU(inplace=True)\n",
       "    (9): MaxPool2d(kernel_size=2, stride=2, padding=0, dilation=1, ceil_mode=False)\n",
       "    (10): Conv2d(128, 256, kernel_size=(3, 3), stride=(1, 1), padding=(1, 1))\n",
       "    (11): ReLU(inplace=True)\n",
       "    (12): Conv2d(256, 256, kernel_size=(3, 3), stride=(1, 1), padding=(1, 1))\n",
       "    (13): ReLU(inplace=True)\n",
       "    (14): Conv2d(256, 256, kernel_size=(3, 3), stride=(1, 1), padding=(1, 1))\n",
       "    (15): ReLU(inplace=True)\n",
       "    (16): MaxPool2d(kernel_size=2, stride=2, padding=0, dilation=1, ceil_mode=False)\n",
       "    (17): Conv2d(256, 512, kernel_size=(3, 3), stride=(1, 1), padding=(1, 1))\n",
       "    (18): ReLU(inplace=True)\n",
       "    (19): Conv2d(512, 512, kernel_size=(3, 3), stride=(1, 1), padding=(1, 1))\n",
       "    (20): ReLU(inplace=True)\n",
       "    (21): Conv2d(512, 512, kernel_size=(3, 3), stride=(1, 1), padding=(1, 1))\n",
       "    (22): ReLU(inplace=True)\n",
       "    (23): MaxPool2d(kernel_size=2, stride=2, padding=0, dilation=1, ceil_mode=False)\n",
       "    (24): Conv2d(512, 512, kernel_size=(3, 3), stride=(1, 1), padding=(1, 1))\n",
       "    (25): ReLU(inplace=True)\n",
       "    (26): Conv2d(512, 512, kernel_size=(3, 3), stride=(1, 1), padding=(1, 1))\n",
       "    (27): ReLU(inplace=True)\n",
       "    (28): Conv2d(512, 512, kernel_size=(3, 3), stride=(1, 1), padding=(1, 1))\n",
       "    (29): ReLU(inplace=True)\n",
       "    (30): MaxPool2d(kernel_size=2, stride=2, padding=0, dilation=1, ceil_mode=False)\n",
       "  )\n",
       "  (avgpool): AdaptiveAvgPool2d(output_size=(7, 7))\n",
       "  (classifier): Sequential(\n",
       "    (0): Linear(in_features=25088, out_features=4096, bias=True)\n",
       "    (1): ReLU(inplace=True)\n",
       "    (2): Dropout(p=0.5, inplace=False)\n",
       "    (3): Linear(in_features=4096, out_features=4096, bias=True)\n",
       "    (4): ReLU(inplace=True)\n",
       "    (5): Dropout(p=0.5, inplace=False)\n",
       "    (6): Linear(in_features=4096, out_features=120, bias=True)\n",
       "  )\n",
       ")"
      ]
     },
     "execution_count": 179,
     "metadata": {},
     "output_type": "execute_result"
    }
   ],
   "source": [
    "model = vgg16(pretrained=True)\n",
    "model.classifier = nn.Sequential(\n",
    "    nn.Linear(512 * 7 * 7, 4096, bias=True),\n",
    "    nn.ReLU(inplace=True),\n",
    "    nn.Dropout(p=0.5, inplace=False),\n",
    "    nn.Linear(4096, 4096, bias=True),\n",
    "    nn.ReLU(inplace=True),\n",
    "    nn.Dropout(p=0.5, inplace=False),\n",
    "    nn.Linear(4096, 120, bias=True),\n",
    ")\n",
    "model.to(device=device)"
   ]
  },
  {
   "cell_type": "code",
   "execution_count": 180,
   "id": "4a4c96e7",
   "metadata": {},
   "outputs": [],
   "source": [
    "criterion = nn.CrossEntropyLoss()\n",
    "optimizer = torch.optim.Adam(model.parameters(), lr=learning_rate)"
   ]
  },
  {
   "cell_type": "code",
   "execution_count": null,
   "id": "9905c48f",
   "metadata": {},
   "outputs": [
    {
     "name": "stderr",
     "output_type": "stream",
     "text": [
      "\r 20%|█▉        | 101/512 [01:00<04:59,  1.37it/s]"
     ]
    },
    {
     "name": "stdout",
     "output_type": "stream",
     "text": [
      "Epoch 0/10 Batch 100/512 Loss 4.7907\n"
     ]
    },
    {
     "name": "stderr",
     "output_type": "stream",
     "text": [
      " 36%|███▌      | 185/512 [02:00<04:30,  1.21it/s]"
     ]
    }
   ],
   "source": [
    "from IPython.display import clear_output\n",
    "\n",
    "model.train()\n",
    "for epoch in range(num_epochs):\n",
    "    for batch_idx, (data, targets) in enumerate(tqdm(train_loader)):\n",
    "        # Get data to cuda if possible\n",
    "        data = data.to(device=device)\n",
    "        targets = targets.to(device=device)\n",
    "        optimizer.zero_grad()\n",
    "        # forward\n",
    "        scores = model(data)\n",
    "        loss = criterion(scores, targets)\n",
    "        loss.backward()\n",
    "        optimizer.step()\n",
    "        if batch_idx != 0 and batch_idx % 100 == 0:\n",
    "            clear_output(wait=True)\n",
    "            print(f\"Epoch {epoch}/{num_epochs} Batch {batch_idx}/{len(train_loader)} Loss {loss.item():.4f}\")\n",
    "            # save model\n",
    "    print(f\"Epoch {epoch}/{num_epochs} Loss {loss.item():.4f}\")"
   ]
  }
 ],
 "metadata": {
  "kernelspec": {
   "display_name": ".venv",
   "language": "python",
   "name": "python3"
  },
  "language_info": {
   "codemirror_mode": {
    "name": "ipython",
    "version": 3
   },
   "file_extension": ".py",
   "mimetype": "text/x-python",
   "name": "python",
   "nbconvert_exporter": "python",
   "pygments_lexer": "ipython3",
   "version": "3.13.3"
  }
 },
 "nbformat": 4,
 "nbformat_minor": 5
}
