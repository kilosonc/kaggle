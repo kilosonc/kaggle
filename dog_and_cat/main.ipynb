{
  "cells": [
    {
      "cell_type": "markdown",
      "metadata": {
        "id": "view-in-github",
        "colab_type": "text"
      },
      "source": [
        "<a href=\"https://colab.research.google.com/github/kilosonc/kaggle/blob/master/dog_and_cat/main.ipynb\" target=\"_parent\"><img src=\"https://colab.research.google.com/assets/colab-badge.svg\" alt=\"Open In Colab\"/></a>"
      ]
    },
    {
      "cell_type": "code",
      "execution_count": 12,
      "metadata": {
        "id": "dEPbyHkUd5z3"
      },
      "outputs": [],
      "source": [
        "!mkdir -p ~/.kaggle\n",
        "!touch ~/.kaggle/kaggle.json\n"
      ]
    },
    {
      "cell_type": "code",
      "source": [
        "from google.colab import userdata\n",
        "with open(\"/root/.kaggle/kaggle.json\", \"w\") as f:\n",
        "  f.write(userdata.get('kaggle'))\n"
      ],
      "metadata": {
        "id": "C8sHA9CIh89G"
      },
      "execution_count": 13,
      "outputs": []
    },
    {
      "cell_type": "code",
      "source": [
        "!kaggle competitions download -c dog-vs-cat-classification\n",
        "!yes | unzip dog-vs-cat-classification.zip -d ./dataset > /dev/null\n",
        "!rm -f dog-vs-cat-classification.zip"
      ],
      "metadata": {
        "id": "rRyhGtSCh_KO",
        "outputId": "9c10d11b-66f7-4243-c0b3-060f91dfae95",
        "colab": {
          "base_uri": "https://localhost:8080/"
        }
      },
      "execution_count": 14,
      "outputs": [
        {
          "output_type": "stream",
          "name": "stdout",
          "text": [
            "Warning: Your Kaggle API key is readable by other users on this system! To fix this, you can run 'chmod 600 /root/.kaggle/kaggle.json'\n",
            "Downloading dog-vs-cat-classification.zip to /content\n",
            " 98% 707M/718M [00:03<00:00, 188MB/s]\n",
            "100% 718M/718M [00:03<00:00, 206MB/s]\n"
          ]
        }
      ]
    },
    {
      "cell_type": "code",
      "execution_count": 15,
      "metadata": {
        "id": "QyYd8Z4yd5z4"
      },
      "outputs": [],
      "source": [
        "import pandas as pd"
      ]
    },
    {
      "cell_type": "code",
      "execution_count": 16,
      "metadata": {
        "id": "IIi2qLnyd5z4"
      },
      "outputs": [],
      "source": [
        "import torch\n",
        "import torch.nn as nn\n",
        "import torch.nn.functional as F\n",
        "\n",
        "class Net(nn.Module):\n",
        "    def __init__(self):\n",
        "        super(Net, self).__init__()\n",
        "\n",
        "        self.conv1 = nn.Sequential(\n",
        "            nn.Conv2d(\n",
        "                3, 512, 5\n",
        "            ),\n",
        "            nn.ReLU(),\n",
        "            nn.MaxPool2d((10,10))\n",
        "        )\n",
        "        self.conv2 = nn.Sequential(\n",
        "            nn.Conv2d(512, 1024, 5),\n",
        "            nn.ReLU(),\n",
        "            nn.MaxPool2d((10,10))\n",
        "        )\n",
        "        self.output = nn.Sequential(\n",
        "            # nn.Linear(3810304, 3721),\n",
        "            # nn.ReLU(),\n",
        "            nn.Linear(4096, 1024),\n",
        "            nn.ReLU(),\n",
        "            nn.Linear(1024, 512),\n",
        "            nn.ReLU(),\n",
        "            nn.Linear(512, 200),\n",
        "            nn.ReLU(),\n",
        "            nn.Linear(200, 50),\n",
        "            nn.ReLU(),\n",
        "            nn.Linear(50, 10),\n",
        "            nn.ReLU(),\n",
        "            nn.Linear(10, 2),\n",
        "        )\n",
        "\n",
        "    def forward(self, input):\n",
        "        x = self.conv1(input)\n",
        "        x = self.conv2(x)\n",
        "        x = x.view(x.size(0), -1)\n",
        "        return self.output(x)"
      ]
    },
    {
      "cell_type": "code",
      "execution_count": 17,
      "metadata": {
        "colab": {
          "base_uri": "https://localhost:8080/"
        },
        "id": "0z04QnVud5z5",
        "outputId": "444f2784-a462-44d1-a158-977ecf694b9b"
      },
      "outputs": [
        {
          "output_type": "stream",
          "name": "stdout",
          "text": [
            "Using device: cuda\n"
          ]
        }
      ],
      "source": [
        "# 检查 MPS 可用性\n",
        "if torch.backends.mps.is_available():\n",
        "    device = torch.device(\"mps\")  # Apple GPU\n",
        "elif torch.cuda.is_available():\n",
        "    device = torch.device(\"cuda\")\n",
        "else:\n",
        "    device = torch.device(\"cpu\")  # 回退到 CPU\n",
        "print(f\"Using device: {device}\")"
      ]
    },
    {
      "cell_type": "code",
      "execution_count": 18,
      "metadata": {
        "colab": {
          "base_uri": "https://localhost:8080/"
        },
        "id": "_pZdyoJ2d5z5",
        "outputId": "fa97e246-642e-44fe-9114-26a685edf2d8"
      },
      "outputs": [
        {
          "output_type": "stream",
          "name": "stdout",
          "text": [
            "Net(\n",
            "  (conv1): Sequential(\n",
            "    (0): Conv2d(3, 512, kernel_size=(5, 5), stride=(1, 1))\n",
            "    (1): ReLU()\n",
            "    (2): MaxPool2d(kernel_size=(10, 10), stride=(10, 10), padding=0, dilation=1, ceil_mode=False)\n",
            "  )\n",
            "  (conv2): Sequential(\n",
            "    (0): Conv2d(512, 1024, kernel_size=(5, 5), stride=(1, 1))\n",
            "    (1): ReLU()\n",
            "    (2): MaxPool2d(kernel_size=(10, 10), stride=(10, 10), padding=0, dilation=1, ceil_mode=False)\n",
            "  )\n",
            "  (output): Sequential(\n",
            "    (0): Linear(in_features=4096, out_features=1024, bias=True)\n",
            "    (1): ReLU()\n",
            "    (2): Linear(in_features=1024, out_features=512, bias=True)\n",
            "    (3): ReLU()\n",
            "    (4): Linear(in_features=512, out_features=200, bias=True)\n",
            "    (5): ReLU()\n",
            "    (6): Linear(in_features=200, out_features=50, bias=True)\n",
            "    (7): ReLU()\n",
            "    (8): Linear(in_features=50, out_features=10, bias=True)\n",
            "    (9): ReLU()\n",
            "    (10): Linear(in_features=10, out_features=2, bias=True)\n",
            "  )\n",
            ")\n"
          ]
        }
      ],
      "source": [
        "cnn = Net()\n",
        "cnn.to(device=device)\n",
        "print(cnn)"
      ]
    },
    {
      "cell_type": "code",
      "execution_count": 19,
      "metadata": {
        "colab": {
          "base_uri": "https://localhost:8080/"
        },
        "id": "6ZyrzTvUd5z5",
        "outputId": "63c180a3-1fd2-4657-ed95-3b3dc2d0efcc"
      },
      "outputs": [
        {
          "output_type": "stream",
          "name": "stdout",
          "text": [
            "torch.Size([3, 256, 256])\n"
          ]
        }
      ],
      "source": [
        "from torchvision import transforms\n",
        "from torch.utils.data import Dataset\n",
        "from PIL import Image\n",
        "import os\n",
        "\n",
        "class DogsAndCatsDataset(Dataset):\n",
        "    def __init__(self):\n",
        "        data = []\n",
        "        for (path, _, files) in os.walk(\"./dataset/train\"):\n",
        "            for f in files:\n",
        "                index = int(f.split(\".\")[1])\n",
        "                file_path = f\"{path}/{f}\"\n",
        "                if path.endswith(\"dogs\"):\n",
        "                    data.append([index, file_path, \"dog\"])\n",
        "                else:\n",
        "                    data.append([index, file_path, \"cat\"])\n",
        "        self.train_set = pd.DataFrame(data, columns=[\"id\", \"path\", \"type\"])\n",
        "        self.transform = transforms.Compose([\n",
        "            transforms.Resize((256, 256)),\n",
        "            transforms.ToTensor(),\n",
        "            transforms.Normalize(0.5, 0.5)\n",
        "        ])\n",
        "\n",
        "    def __len__(self):\n",
        "        return len(self.train_set)\n",
        "\n",
        "    def __getitem__(self, index):\n",
        "        item = self.train_set.loc[index, [\"path\",\"type\"]]\n",
        "        path = item.loc[\"path\"]\n",
        "        label = 1 if item.loc[\"type\"] == \"dog\" else 0\n",
        "        image = Image.open(path).convert(\"RGB\")\n",
        "        return self.transform(image), label\n",
        "\n",
        "data = DogsAndCatsDataset()\n",
        "img, _ = data[1]\n",
        "print(img.size())"
      ]
    },
    {
      "cell_type": "code",
      "execution_count": 20,
      "metadata": {
        "id": "FfR6N9nRd5z5"
      },
      "outputs": [],
      "source": [
        "from torch.utils.data import DataLoader\n",
        "\n",
        "loader = DataLoader(dataset=data,batch_size=10,shuffle=True)"
      ]
    },
    {
      "cell_type": "code",
      "execution_count": null,
      "metadata": {
        "colab": {
          "base_uri": "https://localhost:8080/"
        },
        "id": "8fbWxlkbd5z5",
        "outputId": "d548f702-f5f7-4217-8ad6-bad52f227f02"
      },
      "outputs": [
        {
          "output_type": "stream",
          "name": "stderr",
          "text": [
            "  1%|          | 28/2500 [00:05<06:20,  6.49it/s]"
          ]
        }
      ],
      "source": [
        "from tqdm import tqdm\n",
        "optimizer = torch.optim.Adam(cnn.parameters(), lr=0.001)\n",
        "loss_func = nn.CrossEntropyLoss()\n",
        "\n",
        "for epoch in range(10):\n",
        "    for imgs , labels in tqdm(loader):\n",
        "        imgs, labels = imgs.to(device), labels.to(device)\n",
        "        optimizer.zero_grad()\n",
        "        output = cnn(imgs.view(-1, 3, 256, 256).to(device))\n",
        "        loss = loss_func(output, labels)\n",
        "        loss.backward()\n",
        "        optimizer.step()\n",
        "\n"
      ]
    },
    {
      "cell_type": "code",
      "execution_count": null,
      "metadata": {
        "id": "l71qD-OEd5z5"
      },
      "outputs": [],
      "source": []
    }
  ],
  "metadata": {
    "kernelspec": {
      "display_name": "Python 3",
      "name": "python3"
    },
    "language_info": {
      "codemirror_mode": {
        "name": "ipython",
        "version": 3
      },
      "file_extension": ".py",
      "mimetype": "text/x-python",
      "name": "python",
      "nbconvert_exporter": "python",
      "pygments_lexer": "ipython3",
      "version": "3.13.2"
    },
    "colab": {
      "provenance": [],
      "gpuType": "T4",
      "include_colab_link": true
    },
    "accelerator": "GPU"
  },
  "nbformat": 4,
  "nbformat_minor": 0
}